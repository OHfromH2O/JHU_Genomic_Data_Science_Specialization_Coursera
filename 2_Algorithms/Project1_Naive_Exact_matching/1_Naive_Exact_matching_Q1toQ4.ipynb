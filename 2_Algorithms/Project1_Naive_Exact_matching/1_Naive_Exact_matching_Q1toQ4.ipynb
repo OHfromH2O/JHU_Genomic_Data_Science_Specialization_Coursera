{
 "cells": [
  {
   "cell_type": "markdown",
   "id": "15ca81e3",
   "metadata": {},
   "source": [
    "#Project 1: Naive Exact matching\n",
    "JeongHo Choi, 16th June 2022 (updated)\n",
    "\n",
    "-Develop a strand-aware version of the naive exact matching algorithm. That is, instead of looking only for occurrences of P in T, additionally look for occurrences of thereverse complement of P in T. If P is ACT, your function should find occurrences of both ACT and its reverse complement AGT in T.\n",
    "-If P and its reverse complement are identical (e.g. AACGTT), then a given match offset should be reported only once. \n",
    "=>\n",
    "So if your new function is called naive_with_rc, then the old naivefunction and your new naive_with_rc function should return the same results when P equals its reverse complement.\n",
    "\n",
    "###Question 1)\n",
    "How many times does AGGT or its reverse complement (ACCT) occur in the lambda virus genome?  \n",
    "E.g. if AGGT occurs 10 times and ACCT occurs 12 times, you should report 22.\n",
    "\n",
    "###Question 2)\n",
    "How many times does TTAA or its reverse complement occur in the lambda virus genome?  \n",
    "Hint: TTAA and its reverse complement are equal, so remember not to double count.\n",
    "\n",
    "###Question 3)\n",
    "What is the offset of the leftmost occurrence of ACTAAGT or its reverse complement in the Lambda virus genome?  \n",
    "E.g. if the leftmost occurrence of ACTAAGT is at offset 40 (0-based) \n",
    "and the leftmost occurrence of its reverse complement ACTTAGT is at offset 29, then report 29.\n",
    "\n",
    "###Question 4)\n",
    "What is the offset of the leftmost occurrence of AGTCGA or its reverse complement in the Lambda virus genome?"
   ]
  },
  {
   "cell_type": "code",
   "execution_count": 7,
   "id": "d4e207f9",
   "metadata": {},
   "outputs": [],
   "source": [
    "#This function parses a DNA reference genome from a file in the FASTA format.\n",
    "def readGenome(filename):\n",
    "    genome = ''\n",
    "    with open(filename, 'r') as f:\n",
    "        for line in f:\n",
    "            # ignore header line with genome information\n",
    "            if not line[0] == '>':\n",
    "                genome += line.rstrip()\n",
    "    return genome\n",
    "\n",
    "\n",
    "#This function takes a DNA string and returns its reverse complement\n",
    "def reverseComplement(s):\n",
    "    complement = {'A': 'T', 'C': 'G', 'G': 'C', 'T': 'A', 'N': 'N'}\n",
    "    t = ''\n",
    "    for base in s:\n",
    "        t = complement[base] + t\n",
    "    return t\n",
    "\n",
    "\n",
    "#implementation of the naive exact matching algorithm\n",
    "def naive(p, t):\n",
    "    occurrences = []\n",
    "    for i in range(len(t) - len(p) + 1):  # loop over alignments\n",
    "        match = True\n",
    "        for j in range(len(p)):  # loop over characters\n",
    "            if t[i+j] != p[j]:  # compare characters\n",
    "                match = False\n",
    "                break\n",
    "        if match:\n",
    "            occurrences.append(i)  # all chars matched; record\n",
    "    return occurrences\n",
    "\n",
    "def naive_with_rc(p, t):\n",
    "    p_rc = reverseComplement(p)\n",
    "    occurrences = []\n",
    "    for i in range(len(t)-len(p)+1):\n",
    "        match = True #for naive exact macthing of a strand\n",
    "        match_rc = True #for naive exact matching of that strand's reverse complement\n",
    "\n",
    "        for j in range(len(p)):\n",
    "            if t[i+j] != p[j]:\n",
    "                match = False\n",
    "                break\n",
    "        \n",
    "        for j in range(len(p)):\n",
    "            if t[i+j] != p_rc[j]:\n",
    "                match_rc = False\n",
    "                break  \n",
    "                \n",
    "        if match or match_rc:\n",
    "            occurrences.append(i)\n",
    "        \n",
    "    return occurrences"
   ]
  },
  {
   "cell_type": "code",
   "execution_count": 8,
   "id": "961725b6",
   "metadata": {},
   "outputs": [],
   "source": [
    "genome = readGenome('lambda_virus.fa')"
   ]
  },
  {
   "cell_type": "code",
   "execution_count": 9,
   "id": "fd762c00",
   "metadata": {},
   "outputs": [
    {
     "name": "stdout",
     "output_type": "stream",
     "text": [
      "306\n"
     ]
    }
   ],
   "source": [
    "#Q1\n",
    "print(len(naive_with_rc('AGGT', genome)))"
   ]
  },
  {
   "cell_type": "code",
   "execution_count": 10,
   "id": "d382ec6d",
   "metadata": {},
   "outputs": [
    {
     "name": "stdout",
     "output_type": "stream",
     "text": [
      "195\n"
     ]
    }
   ],
   "source": [
    "#Q2\n",
    "print(len(naive_with_rc('TTAA', genome)))"
   ]
  },
  {
   "cell_type": "code",
   "execution_count": 11,
   "id": "e9ebae98",
   "metadata": {},
   "outputs": [
    {
     "name": "stdout",
     "output_type": "stream",
     "text": [
      "26028\n"
     ]
    }
   ],
   "source": [
    "#Q3\n",
    "print(min(naive_with_rc('ACTAAGT', genome)))"
   ]
  },
  {
   "cell_type": "code",
   "execution_count": 12,
   "id": "01db550a",
   "metadata": {},
   "outputs": [
    {
     "name": "stdout",
     "output_type": "stream",
     "text": [
      "450\n"
     ]
    }
   ],
   "source": [
    "#Q4\n",
    "print(min(naive_with_rc('AGTCGA', genome)))"
   ]
  }
 ],
 "metadata": {
  "kernelspec": {
   "display_name": "Python 3 (ipykernel)",
   "language": "python",
   "name": "python3"
  },
  "language_info": {
   "codemirror_mode": {
    "name": "ipython",
    "version": 3
   },
   "file_extension": ".py",
   "mimetype": "text/x-python",
   "name": "python",
   "nbconvert_exporter": "python",
   "pygments_lexer": "ipython3",
   "version": "3.9.12"
  }
 },
 "nbformat": 4,
 "nbformat_minor": 5
}
