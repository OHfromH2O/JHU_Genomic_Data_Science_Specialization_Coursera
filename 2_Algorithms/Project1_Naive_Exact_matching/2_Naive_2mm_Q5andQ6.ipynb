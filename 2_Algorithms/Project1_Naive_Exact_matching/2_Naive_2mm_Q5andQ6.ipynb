{
 "cells": [
  {
   "cell_type": "markdown",
   "id": "89312287",
   "metadata": {},
   "source": [
    "#Project 1: Naive Exact matching \n",
    "JeongHo Choi, 16th June 2022 (updated)\n",
    "\n",
    "As we will discuss, sometimes we would like to find approximate matches for P in T. \n",
    "That is, we want to find occurrences with one or more differences.\n",
    "\n",
    "For Questions 5 and 6, \n",
    "make a new version of the naive function called naive_2mm that allows up to 2 mismatches per occurrence. \n",
    "Unlike for the previous questions, do not consider the reverse complement here.  \n",
    "We're looking for approximate matches for P itself, not its reverse complement.\n",
    "\n",
    "For example, ACTTTA occurs twice in ACTTACTTGATAAAGT, \n",
    "once at offset 0 with 2 mismatches, and once at offset 4 with 1 mismatch. \n",
    "So naive_2mm(’ACTTTA’, ’ACTTACTTGATAAAGT’) should return the list [0, 4].\n",
    "\n",
    "###Question 5)\n",
    "How many times does TTCAAGCC occur in the Lambda virus genome when allowing up to 2 mismatches? \n",
    "\n",
    "###Question 6)\n",
    "What is the offset of the leftmost occurrence of AGGAGGTT in the Lambda virus genome when allowing up to 2 mismatches?"
   ]
  },
  {
   "cell_type": "code",
   "execution_count": 1,
   "id": "06861ccb",
   "metadata": {},
   "outputs": [],
   "source": [
    "def readGenome(filename):\n",
    "    genome = ''\n",
    "    with open(filename, 'r') as f:\n",
    "        for line in f:\n",
    "            # ignore header line with genome information\n",
    "            if not line[0] == '>':\n",
    "                genome += line.rstrip()\n",
    "    return genome"
   ]
  },
  {
   "cell_type": "code",
   "execution_count": 2,
   "id": "c305ff57",
   "metadata": {},
   "outputs": [],
   "source": [
    "def naive_2mm(p, t):\n",
    "    occurrences = []\n",
    "    for i in range(len(t) - len(p) + 1):  # loop over alignments\n",
    "        count_mismatch = 0\n",
    "        for j in range(len(p)):  # loop over characters\n",
    "            if t[i+j] != p[j]:  # compare characters\n",
    "                count_mismatch += 1\n",
    "        if not count_mismatch > 2:\n",
    "            occurrences.append(i)  # chars matched with allowing 2 mismatch; record\n",
    "    return occurrences"
   ]
  },
  {
   "cell_type": "code",
   "execution_count": 3,
   "id": "475d60b0",
   "metadata": {},
   "outputs": [],
   "source": [
    "genome = readGenome('lambda_virus.fa')"
   ]
  },
  {
   "cell_type": "code",
   "execution_count": 4,
   "id": "61baa477",
   "metadata": {},
   "outputs": [
    {
     "name": "stdout",
     "output_type": "stream",
     "text": [
      "191\n"
     ]
    }
   ],
   "source": [
    "#Q5\n",
    "print(len(naive_2mm('TTCAAGCC', genome)))"
   ]
  },
  {
   "cell_type": "code",
   "execution_count": 5,
   "id": "dda4879f",
   "metadata": {},
   "outputs": [
    {
     "name": "stdout",
     "output_type": "stream",
     "text": [
      "49\n"
     ]
    }
   ],
   "source": [
    "#Q6\n",
    "print(min(naive_2mm('AGGAGGTT', genome)))"
   ]
  }
 ],
 "metadata": {
  "kernelspec": {
   "display_name": "Python 3 (ipykernel)",
   "language": "python",
   "name": "python3"
  },
  "language_info": {
   "codemirror_mode": {
    "name": "ipython",
    "version": 3
   },
   "file_extension": ".py",
   "mimetype": "text/x-python",
   "name": "python",
   "nbconvert_exporter": "python",
   "pygments_lexer": "ipython3",
   "version": "3.9.12"
  }
 },
 "nbformat": 4,
 "nbformat_minor": 5
}
