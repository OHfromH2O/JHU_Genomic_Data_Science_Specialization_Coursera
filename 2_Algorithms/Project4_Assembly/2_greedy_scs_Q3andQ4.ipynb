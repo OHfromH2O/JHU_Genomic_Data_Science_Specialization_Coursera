{
 "cells": [
  {
   "cell_type": "markdown",
   "id": "da83f633",
   "metadata": {},
   "source": [
    "#Project 3: Assembly problem\n",
    "JeongHo Choi, 20th June 2022 (updated)\n",
    "\n",
    "-Download this FASTQ file containing synthetic sequencing reads from a mystery virus:\n",
    "https://d28rh4a8wq0iu5.cloudfront.net/ads1/data/ads1_week4_reads.fq<br>\n",
    "-All the reads are the same length (100 bases) and are exact copies of substrings from the forward strand of the virus genome.<br>\n",
    "-You don't have to worry about sequencing errors, ploidy, or reads coming from the reverse strand.<br>\n",
    "-Assemble these reads using one of the approaches discussed, such as greedy shortest common superstring.  \n",
    "<br>\n",
    "-Since there are many reads, you might consider ways to make the algorithm faster, such as the one discussed in the programming assignment in the previous module.\n",
    "\n",
    "###Question 3)\n",
    "How many As are there in the full, assembled genome?<br>\n",
    "-Hint: the virus genome you are assembling is exactly 15,894 bases long\n",
    "\n",
    "###Question 4) \n",
    "How many Ts are there in the full, assembled genome from the previous question?"
   ]
  },
  {
   "cell_type": "code",
   "execution_count": 1,
   "id": "cdfa2b1a",
   "metadata": {},
   "outputs": [],
   "source": [
    "from copy import deepcopy\n",
    "\n",
    "def readFastq(filename):\n",
    "    sequences = []\n",
    "    qualities = []\n",
    "    with open(filename) as fh:\n",
    "        while True:\n",
    "            fh.readline()  # skip name line\n",
    "            seq = fh.readline().rstrip()  # read base sequence\n",
    "            fh.readline()  # skip placeholder line\n",
    "            qual = fh.readline().rstrip() # base quality line\n",
    "            if len(seq) == 0:\n",
    "                break\n",
    "            sequences.append(seq)\n",
    "            qualities.append(qual)\n",
    "    return sequences, qualities"
   ]
  },
  {
   "cell_type": "code",
   "execution_count": 2,
   "id": "d12e3ba2",
   "metadata": {},
   "outputs": [],
   "source": [
    "def overlap(a, b, min_length=3):\n",
    "    \"\"\" Return length of longest suffix of 'a' matching\n",
    "        a prefix of 'b' that is at least 'min_length'\n",
    "        characters long.  If no such overlap exists,\n",
    "        return 0. \"\"\"\n",
    "    start = 0  # start all the way at the left\n",
    "    while True:\n",
    "        start = a.find(b[:min_length], start)  # look for b's prefix in a\n",
    "        if start == -1:  # no more occurrences to right\n",
    "            return 0\n",
    "        # found occurrence; check for full suffix/prefix match\n",
    "        if b.startswith(a[start:]):\n",
    "            return len(a)-start\n",
    "        start += 1  # move just past previous match\n",
    "\n",
    "def kmers_dict(reads, k):\n",
    "    kmers = {} # kmers dictionary; kmers as key, corresponding set of reads as value\n",
    "    for read in reads:\n",
    "        for i in range(len(read) - k + 1):  \n",
    "            current_kmer = read[i:i+k]\n",
    "            if current_kmer in kmers:\n",
    "                kmers[current_kmer].add(read) # add a corresponding read to value if the kmer key exists\n",
    "            else:\n",
    "                kmers[current_kmer] = set([read]) # put a set of reads as value to avoid redundancy           \n",
    "    return kmers\n",
    "\n",
    "def pick_maximal_overlap_with_kmers(reads, k, kmers):\n",
    "    reada, readb = None, None\n",
    "    best_olen = 0\n",
    "    for read in reads:\n",
    "        current_suffix = read[len(read)-k:]\n",
    "        reads_with_kmer = deepcopy(kmers[current_suffix]) # recall reads which include current_suffix as a kmer key\n",
    "        reads_with_kmer.discard(read) # discard that read\n",
    "        for read_with_kmer in reads_with_kmer:\n",
    "            olen = overlap(read, read_with_kmer, k)\n",
    "            if olen > best_olen:\n",
    "                reada, readb = read, read_with_kmer \n",
    "                best_olen = olen\n",
    "    return reada, readb, best_olen\n",
    "\n",
    "def greedy_scs(reads, k):\n",
    "    kmers = kmers_dict(reads, k)\n",
    "    read_a, read_b, olen = pick_maximal_overlap_with_kmers(reads, k, kmers)\n",
    "    while olen > 0:\n",
    "        reads.remove(read_a)\n",
    "        reads.remove(read_b)\n",
    "        reads.append(read_a + read_b[olen:])\n",
    "        for key, value in kmers.items():\n",
    "            for val in value.copy():\n",
    "                if val == read_a or val == read_b:\n",
    "                    value.discard(val) #if the read is repeated in kmers value, discard it\n",
    "        read = read_a + read_b[olen:]\n",
    "        for i in range(len(read) - k + 1): \n",
    "            current_kmer = read[i:i+k]\n",
    "            if current_kmer in kmers:\n",
    "                kmers[current_kmer].add(read)\n",
    "            else:\n",
    "                kmers[current_kmer] = set([read])\n",
    "        read_a, read_b, olen = pick_maximal_overlap_with_kmers(reads, k, kmers)\n",
    "\n",
    "    return ''.join(reads)"
   ]
  },
  {
   "cell_type": "code",
   "execution_count": 3,
   "id": "bf60ef46",
   "metadata": {},
   "outputs": [
    {
     "name": "stdout",
     "output_type": "stream",
     "text": [
      "Number of As in the assembled genome: 4633\n",
      "Number of Ts in the assembled genome: 3723\n"
     ]
    }
   ],
   "source": [
    "reads_filename = 'ads1_week4_reads.fq'\n",
    "reads, _ = readFastq(reads_filename)\n",
    "assembled_genome = greedy_scs(reads, 10)\n",
    "\n",
    "# Q3\n",
    "print(\"Number of As in the assembled genome:\", assembled_genome.count('A'))\n",
    "\n",
    "# Q4\n",
    "print(\"Number of Ts in the assembled genome:\", assembled_genome.count('T'))"
   ]
  }
 ],
 "metadata": {
  "kernelspec": {
   "display_name": "Python 3 (ipykernel)",
   "language": "python",
   "name": "python3"
  },
  "language_info": {
   "codemirror_mode": {
    "name": "ipython",
    "version": 3
   },
   "file_extension": ".py",
   "mimetype": "text/x-python",
   "name": "python",
   "nbconvert_exporter": "python",
   "pygments_lexer": "ipython3",
   "version": "3.9.12"
  }
 },
 "nbformat": 4,
 "nbformat_minor": 5
}
