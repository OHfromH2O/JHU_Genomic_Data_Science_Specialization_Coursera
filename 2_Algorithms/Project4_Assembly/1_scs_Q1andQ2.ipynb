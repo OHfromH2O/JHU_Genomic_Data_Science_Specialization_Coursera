{
 "cells": [
  {
   "cell_type": "markdown",
   "id": "756a9340",
   "metadata": {},
   "source": [
    "#Project 3: Assembly problem\n",
    "JeongHo Choi, 20th June 2022 (updated)\n",
    "\n",
    "-In a practical, we saw the scs function (copied below along with overlap) for finding the shortest common superstring of a set of strings.<br>\n",
    "-It's possible for there to be multiple different shortest common superstrings for the same set of input strings. Consider the input strings ABC, BCA, CAB. One shortest common superstring is ABCAB but another is BCABC and another is CABCA.\n",
    "\n",
    "###Question 1)\n",
    "What is the length of the shortest common superstring of the following strings?<br>\n",
    ": CCT, CTT, TGC, TGG, GAT, ATT\n",
    "\n",
    "###Question 2) \n",
    "How many different shortest common superstrings are there for the input strings given in the previous question?<br>\n",
    "-Hint 1: You can modify the scs function to keep track of this. "
   ]
  },
  {
   "cell_type": "code",
   "execution_count": 1,
   "id": "681cc22e",
   "metadata": {},
   "outputs": [],
   "source": [
    "def overlap(a, b, min_length=3):\n",
    "    \"\"\" Return length of longest suffix of 'a' matching\n",
    "        a prefix of 'b' that is at least 'min_length'\n",
    "        characters long.  If no such overlap exists,\n",
    "        return 0. \"\"\"\n",
    "    start = 0  # start all the way at the left\n",
    "    while True:\n",
    "        start = a.find(b[:min_length], start)  # look for b's suffx in a\n",
    "        if start == -1:  # no more occurrences to right\n",
    "            return 0\n",
    "        # found occurrence; check for full suffix/prefix match\n",
    "        if b.startswith(a[start:]):\n",
    "            return len(a)-start\n",
    "        start += 1  # move just past previous match\n",
    "\n",
    "import itertools\n",
    "\n",
    "def scs(ss):\n",
    "    \"\"\" Returns shortest common superstring of given\n",
    "        strings, which must be the same length \"\"\"\n",
    "    shortest_sup = None\n",
    "    for ssperm in itertools.permutations(ss):\n",
    "        sup = ssperm[0]  # superstring starts as first string\n",
    "        for i in range(len(ss)-1):\n",
    "            # overlap adjacent strings A and B in the permutation\n",
    "            olen = overlap(ssperm[i], ssperm[i+1], min_length=1)\n",
    "            # add non-overlapping portion of B to superstring\n",
    "            sup += ssperm[i+1][olen:]\n",
    "        if shortest_sup is None or len(sup) < len(shortest_sup):\n",
    "            shortest_sup = sup  # found shorter superstring\n",
    "    return shortest_sup  # return shortest"
   ]
  },
  {
   "cell_type": "code",
   "execution_count": 2,
   "id": "fa9b215c",
   "metadata": {},
   "outputs": [],
   "source": [
    "def all_scs(ss):\n",
    "    \"\"\" Returns a list of all of shortest common superstrings in given\n",
    "        strings, which must be the same length \"\"\"\n",
    "    shortest_sup = None\n",
    "    cs_list = [] # a list for common superstrings in a same length\n",
    "    scs_list = [] # a list for **shortest** common superstrings\n",
    "    for ssperm in itertools.permutations(ss):\n",
    "        sup = ssperm[0]  # superstring starts as first string\n",
    "        for i in range(len(ss)-1):\n",
    "            # overlap adjacent strings A and B in the permutation\n",
    "            olen = overlap(ssperm[i], ssperm[i+1], min_length=1)\n",
    "            # add non-overlapping portion of B to superstring\n",
    "            sup += ssperm[i+1][olen:]\n",
    "        if shortest_sup is None or len(sup) <= len(shortest_sup):\n",
    "            shortest_sup = sup\n",
    "            cs_list.append(sup) # found common superstrings\n",
    "    \n",
    "    scs_len = len(min(cs_list, key = lambda s: len(s))) #find out the shortest length from common superstrings\n",
    "\n",
    "    for i in range(len(cs_list)):\n",
    "        if len(cs_list[i]) == scs_len:\n",
    "            scs_list.append(cs_list[i])\n",
    "            \n",
    "    return scs_list"
   ]
  },
  {
   "cell_type": "code",
   "execution_count": 3,
   "id": "33116ea7",
   "metadata": {},
   "outputs": [
    {
     "name": "stdout",
     "output_type": "stream",
     "text": [
      "Length of the shortest common superstring: 11\n",
      "Number of different shortest common superstrings: 4\n"
     ]
    }
   ],
   "source": [
    "scs_list = all_scs(['CCT', 'CTT', 'TGC', 'TGG', 'GAT', 'ATT'])\n",
    "\n",
    "# Q1\n",
    "print(\"Length of the shortest common superstring:\", len(scs_list[0]))\n",
    "\n",
    "# Q2\n",
    "print(\"Number of different shortest common superstrings:\", len(scs_list))"
   ]
  }
 ],
 "metadata": {
  "kernelspec": {
   "display_name": "Python 3 (ipykernel)",
   "language": "python",
   "name": "python3"
  },
  "language_info": {
   "codemirror_mode": {
    "name": "ipython",
    "version": 3
   },
   "file_extension": ".py",
   "mimetype": "text/x-python",
   "name": "python",
   "nbconvert_exporter": "python",
   "pygments_lexer": "ipython3",
   "version": "3.9.12"
  }
 },
 "nbformat": 4,
 "nbformat_minor": 5
}
