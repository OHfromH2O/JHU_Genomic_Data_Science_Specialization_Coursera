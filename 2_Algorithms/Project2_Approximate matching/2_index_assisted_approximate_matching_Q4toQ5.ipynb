{
 "cells": [
  {
   "cell_type": "markdown",
   "id": "a88cc40e",
   "metadata": {},
   "source": [
    "#Project 2: Approximate matching\n",
    "JeongHo Choi, 17th June 2022 (updated)\n",
    "\n",
    "-Write a function that, given a length-24 pattern P and given an Index object built on 8-mers.<br>\n",
    "-find all approximate occurrences of P within T with up to 2 mismatches.<br>\n",
    "-Insertions and deletions are not allowed.<br>\n",
    "-Don't consider any reverse complements.<br>\n",
    "   \n",
    "###Question 4)\n",
    "How many times does the string GGCGCGGTGGCTCACGCCTGTAAT, which is derived from a human Alu sequence, occur with up to 2 substitutions in the excerpt of human chromosome 1?  \n",
    "(Don't consider reverse complements here.)<br>\n",
    "\n",
    "-Hint 1: 'Multiple index hits' might direct you to the same match multiple times, but be careful not to count a match 'more than once'.<br>\n",
    "-Hint 2: You can check your work by comparing the output of your new function to that of the 'naive_2mm function' implemented in the previous module.\n",
    "\n",
    "###Question 5)\n",
    "Using the instructions given in Question 4, how many total index hits are there when searching for occurrences of GGCGCGGTGGCTCACGCCTGTAAT with up to 2 substitutions in the excerpt of human chromosome 1?\n",
    "(Don't consider reverse complements.)<br>\n",
    "\n",
    "-Hint: You should be able to use the 'boyer_moore function' (or the slower 'naive function') to 'double-check' your answer."
   ]
  },
  {
   "cell_type": "code",
   "execution_count": 1,
   "id": "bfed2531",
   "metadata": {},
   "outputs": [],
   "source": [
    "import bisect\n",
    "\n",
    "# from kmer_index.py by Ben Langmead, the instructor for DNA sequencing algorithms\n",
    "class Index(object):\n",
    "    def __init__(self, t, k):\n",
    "        ''' Create index from all substrings of size 'length' '''\n",
    "        self.k = k  # k-mer length (k)\n",
    "        self.index = []\n",
    "        for i in range(len(t) - k + 1):  # for each k-mer\n",
    "            self.index.append((t[i:i+k], i))  # add (k-mer, offset) pair\n",
    "        self.index.sort()  # alphabetize by k-mer\n",
    "    \n",
    "    def query(self, p):\n",
    "        ''' Return index hits for first k-mer of P '''\n",
    "        kmer = p[:self.k]  # query with first k-mer\n",
    "        i = bisect.bisect_left(self.index, (kmer, -1))  # binary search\n",
    "        hits = []\n",
    "        while i < len(self.index):  # collect matching index entries\n",
    "            if self.index[i][0] != kmer:\n",
    "                break\n",
    "            hits.append(self.index[i][1])\n",
    "            i += 1\n",
    "        return hits"
   ]
  },
  {
   "cell_type": "code",
   "execution_count": 2,
   "id": "85ff7a37",
   "metadata": {},
   "outputs": [],
   "source": [
    "def naive_2mm(p, t):\n",
    "    occurrences = []\n",
    "    for i in range(len(t) - len(p) + 1):  # loop over alignments\n",
    "        count_mismatch = 0\n",
    "        for j in range(len(p)):  # loop over characters\n",
    "            if t[i+j] != p[j]:  # compare characters\n",
    "                count_mismatch += 1\n",
    "        if not count_mismatch > 2:\n",
    "            occurrences.append(i)  # chars matched with allowing 2 mismatch; record\n",
    "    return occurrences"
   ]
  },
  {
   "cell_type": "code",
   "execution_count": 3,
   "id": "cc2ddb3c",
   "metadata": {},
   "outputs": [],
   "source": [
    "def approximate_match(p, t, n):\n",
    "    segment_length = int(round(len(p) / (n + 1)))\n",
    "    all_matches = set()\n",
    "    p_idx = Index(t, segment_length)\n",
    "    idx_hits = 0\n",
    "    for i in range(n + 1):\n",
    "        start = i * segment_length\n",
    "        end = min((i + 1) * segment_length, len(p))\n",
    "        matches = p_idx.query(p[start:end])\n",
    "\n",
    "        # Extend matching segments to see if whole p matches\n",
    "        for m in matches:\n",
    "            idx_hits += 1\n",
    "            if m < start or m - start + len(p) > len(t):\n",
    "                continue\n",
    "\n",
    "            mismatches = 0\n",
    "\n",
    "            for j in range(0, start):\n",
    "                if not p[j] == t[m - start + j]:\n",
    "                    mismatches += 1\n",
    "                    if mismatches > n:\n",
    "                        break\n",
    "            for j in range(end, len(p)):\n",
    "                if not p[j] == t[m - start + j]:\n",
    "                    mismatches += 1\n",
    "                    if mismatches > n:\n",
    "                        break\n",
    "\n",
    "            if mismatches <= n:\n",
    "                all_matches.add(m - start)\n",
    "    return list(all_matches), idx_hits"
   ]
  },
  {
   "cell_type": "code",
   "execution_count": 4,
   "id": "3ed7197b",
   "metadata": {},
   "outputs": [],
   "source": [
    "def readGenome(filename):\n",
    "    genome = ''\n",
    "    with open(filename, 'r') as f:\n",
    "        for line in f:\n",
    "            # ignore header line with genome information\n",
    "            if not line[0] == '>':\n",
    "                genome += line.rstrip()\n",
    "    return genome"
   ]
  },
  {
   "cell_type": "code",
   "execution_count": 5,
   "id": "0d5b2dbe",
   "metadata": {},
   "outputs": [],
   "source": [
    "genome_file = 'chr1.GRCh38.excerpt.fasta'\n",
    "t = readGenome(genome_file)\n",
    "p = 'GGCGCGGTGGCTCACGCCTGTAAT'"
   ]
  },
  {
   "cell_type": "code",
   "execution_count": 6,
   "id": "47909bbd",
   "metadata": {},
   "outputs": [],
   "source": [
    "matches, hit_counts = approximate_match(p, t, 2)"
   ]
  },
  {
   "cell_type": "code",
   "execution_count": 8,
   "id": "67e44c41",
   "metadata": {},
   "outputs": [
    {
     "data": {
      "text/plain": [
       "19"
      ]
     },
     "execution_count": 8,
     "metadata": {},
     "output_type": "execute_result"
    }
   ],
   "source": [
    "# naive_2mm to double-check the result\n",
    "len(naive_2mm(p, t))"
   ]
  },
  {
   "cell_type": "code",
   "execution_count": 9,
   "id": "cd8491ce",
   "metadata": {},
   "outputs": [
    {
     "data": {
      "text/plain": [
       "19"
      ]
     },
     "execution_count": 9,
     "metadata": {},
     "output_type": "execute_result"
    }
   ],
   "source": [
    "# Q4\n",
    "len(matches)"
   ]
  },
  {
   "cell_type": "code",
   "execution_count": 10,
   "id": "c09543fb",
   "metadata": {},
   "outputs": [
    {
     "data": {
      "text/plain": [
       "90"
      ]
     },
     "execution_count": 10,
     "metadata": {},
     "output_type": "execute_result"
    }
   ],
   "source": [
    "# Q5\n",
    "hit_counts"
   ]
  }
 ],
 "metadata": {
  "kernelspec": {
   "display_name": "Python 3 (ipykernel)",
   "language": "python",
   "name": "python3"
  },
  "language_info": {
   "codemirror_mode": {
    "name": "ipython",
    "version": 3
   },
   "file_extension": ".py",
   "mimetype": "text/x-python",
   "name": "python",
   "nbconvert_exporter": "python",
   "pygments_lexer": "ipython3",
   "version": "3.9.12"
  }
 },
 "nbformat": 4,
 "nbformat_minor": 5
}
