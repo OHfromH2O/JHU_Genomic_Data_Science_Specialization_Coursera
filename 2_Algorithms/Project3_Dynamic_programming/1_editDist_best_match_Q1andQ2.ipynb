{
 "cells": [
  {
   "cell_type": "markdown",
   "id": "934257dc",
   "metadata": {},
   "source": [
    "#Project 3: Dynamic programming\n",
    "JeongHo Choi, 18th June 2022 (updated)\n",
    "\n",
    "-adapt the editDistance function we saw in practical (copied below) to answer questions 1 and 2 below. Your function should take arguments p (pattern), t (text) and should return the edit distance of the match between P and T with the fewest edits.\n",
    "\n",
    "###Question 1)\n",
    "What is the edit distance of the best match between pattern GCTGATCGATCGTACG and the excerpt of human chromosome 1?\n",
    "(Don't consider reverse complements.)\n",
    "\n",
    "###Question 2) \n",
    "What is the edit distance of the best match between pattern GATTTACCAGATTGAG and the excerpt of human chromosome 1?(Don't consider reverse complements.)"
   ]
  },
  {
   "cell_type": "code",
   "execution_count": 4,
   "id": "2de8cc33",
   "metadata": {},
   "outputs": [],
   "source": [
    "def readGenome(filename):\n",
    "    genome = ''\n",
    "    with open(filename, 'r') as f:\n",
    "        for line in f:\n",
    "            # ignore header line with genome information\n",
    "            if not line[0] == '>':\n",
    "                genome += line.rstrip()\n",
    "    return genome"
   ]
  },
  {
   "cell_type": "code",
   "execution_count": 5,
   "id": "baa53f52",
   "metadata": {},
   "outputs": [],
   "source": [
    "genome_filename = 'chr1.GRCh38.excerpt.fasta'\n",
    "\n",
    "t = readGenome(genome_filename)"
   ]
  },
  {
   "cell_type": "code",
   "execution_count": 13,
   "id": "ee9c338d",
   "metadata": {},
   "outputs": [],
   "source": [
    "def editDistance(x, y):\n",
    "    # Create distance matrix\n",
    "    D = []\n",
    "    for i in range(len(x)+1):\n",
    "        D.append([0]*(len(y)+1))\n",
    "    # Initialize first row and column of matrix\n",
    "    for i in range(len(x)+1):\n",
    "        D[i][0] = i\n",
    "    for i in range(len(y)+1):\n",
    "        D[0][i] = i\n",
    "    # Fill in the rest of the matrix\n",
    "    for i in range(1, len(x)+1):\n",
    "        for j in range(1, len(y)+1):\n",
    "            distHor = D[i][j-1] + 1\n",
    "            distVer = D[i-1][j] + 1\n",
    "            if x[i-1] == y[j-1]:\n",
    "                distDiag = D[i-1][j-1]\n",
    "            else:\n",
    "                distDiag = D[i-1][j-1] + 1\n",
    "            D[i][j] = min(distHor, distVer, distDiag)\n",
    "    # Edit distance is the value in the bottom right corner of the matrix\n",
    "    return D[-1][-1]\n"
   ]
  },
  {
   "cell_type": "code",
   "execution_count": 15,
   "id": "94d835aa",
   "metadata": {},
   "outputs": [
    {
     "data": {
      "text/plain": [
       "799984"
      ]
     },
     "execution_count": 15,
     "metadata": {},
     "output_type": "execute_result"
    }
   ],
   "source": [
    "# Q1\n",
    "p = 'GCTGATCGATCGTACG'\n",
    "editDistance(t, p)"
   ]
  },
  {
   "cell_type": "code",
   "execution_count": 16,
   "id": "fa0d01ea",
   "metadata": {},
   "outputs": [
    {
     "data": {
      "text/plain": [
       "799984"
      ]
     },
     "execution_count": 16,
     "metadata": {},
     "output_type": "execute_result"
    }
   ],
   "source": [
    "# Q2\n",
    "p = 'GATTTACCAGATTGAG'\n",
    "editDistance(t, p)"
   ]
  }
 ],
 "metadata": {
  "kernelspec": {
   "display_name": "Python 3 (ipykernel)",
   "language": "python",
   "name": "python3"
  },
  "language_info": {
   "codemirror_mode": {
    "name": "ipython",
    "version": 3
   },
   "file_extension": ".py",
   "mimetype": "text/x-python",
   "name": "python",
   "nbconvert_exporter": "python",
   "pygments_lexer": "ipython3",
   "version": "3.9.12"
  }
 },
 "nbformat": 4,
 "nbformat_minor": 5
}
