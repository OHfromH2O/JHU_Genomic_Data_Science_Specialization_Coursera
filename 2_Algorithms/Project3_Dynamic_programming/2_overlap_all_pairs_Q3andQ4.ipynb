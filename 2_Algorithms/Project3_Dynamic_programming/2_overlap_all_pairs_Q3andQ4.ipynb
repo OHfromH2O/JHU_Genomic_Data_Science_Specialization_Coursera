{
 "cells": [
  {
   "cell_type": "markdown",
   "id": "52d31812",
   "metadata": {},
   "source": [
    "#Project 3: Dynamic programming\n",
    "JeongHo Choi, 18th June 2022 (updated)\n",
    "\n",
    "-find all pairs of reads with an exact suffix/prefix match of length at least 30. Don't overlap a read with itself; if a read has a suffix/prefix match to itself, ignore that match.  Ignore reverse complements.\n",
    "\n",
    "Hint 1: Your function should not take much more than 15 seconds to run on this 10,000-read dataset, and maybe much less than that. If your function is much slower, there is a problem somewhere.<br>\n",
    "Hint 2: Remember not to overlap a read with itself. If you do, your answers will be too high.<br>\n",
    "Hint 3: You can test your implementation by making up small examples, then checking that (a) your implementation runs quickly, and (b) you get the same answer as if you had simply called overlap(a, b, min_length=k) on every pair of reads.\n",
    "\n",
    "###Question 3)\n",
    "Picture the overlap graph corresponding to the overlaps just calculated. How many edges are in the graph? In other words, **how many distinct pairs of reads overlap**?\n",
    "\n",
    "###Question 4) \n",
    "Picture the overlap graph corresponding to the overlaps computed for the previous question. How many nodes in this graph have at least one outgoing edge? (**In other words, how many reads have a suffix involved in an overlap?**)"
   ]
  },
  {
   "cell_type": "code",
   "execution_count": 1,
   "id": "934f176d",
   "metadata": {},
   "outputs": [],
   "source": [
    "def readFastq(filename):\n",
    "    sequences = []\n",
    "    qualities = []\n",
    "    with open(filename) as fh:\n",
    "        while True:\n",
    "            fh.readline()  # skip name line\n",
    "            seq = fh.readline().rstrip()  # read base sequence\n",
    "            fh.readline()  # skip placeholder line\n",
    "            qual = fh.readline().rstrip() # base quality line\n",
    "            if len(seq) == 0:\n",
    "                break\n",
    "            sequences.append(seq)\n",
    "            qualities.append(qual)\n",
    "    return sequences, qualities"
   ]
  },
  {
   "cell_type": "code",
   "execution_count": 2,
   "id": "50ac692d",
   "metadata": {},
   "outputs": [],
   "source": [
    "def overlap(a, b, min_length=3):\n",
    "    \"\"\" Return length of longest suffix of 'a' matching\n",
    "        a prefix of 'b' that is at least 'min_length'\n",
    "        characters long.  If no such overlap exists,\n",
    "        return 0. \"\"\"\n",
    "    start = 0  # start all the way at the left\n",
    "    while True:\n",
    "        start = a.find(b[:min_length], start)  # look for b's prefix in a\n",
    "        if start == -1:  # no more occurrences to right\n",
    "            return 0\n",
    "        # found occurrence; check for full suffix/prefix match\n",
    "        if b.startswith(a[start:]):\n",
    "            return len(a)-start\n",
    "        start += 1  # move just past previous match"
   ]
  },
  {
   "cell_type": "code",
   "execution_count": 3,
   "id": "06a1f80f",
   "metadata": {},
   "outputs": [],
   "source": [
    "def overlap_all_pairs(reads, k):\n",
    "    kmers_dict = {} #create a dictionary for kmers; k-mer as a key, corresponding reads as value\n",
    "    read_pairs_dict = {} \n",
    "    #create a dictionary for read pairs having a suffix involved in an overlap;read pairs as a key, overlap length as value\n",
    "\n",
    "    for read in reads:\n",
    "        for i in range(len(read)-k+1):\n",
    "            kmer=read[i:i+k]\n",
    "            if kmer not in kmers_dict:\n",
    "                kmers_dict[kmer]= [read]\n",
    "            else:\n",
    "                kmers_dict[kmer].append(read)\n",
    "    \n",
    "    pairs_count=0\n",
    "    for read in reads:\n",
    "        read_suffix = read[-k:] \n",
    "        for possible_read in kmers_dict[read_suffix]:\n",
    "            if possible_read != read:\n",
    "                olen = overlap(read, possible_read, k)\n",
    "                if olen > 0:\n",
    "                    pairs_count += 1\n",
    "                    read_pairs_dict[(read, possible_read)] = olen #olen refers to overlap length\n",
    "                    \n",
    "    return read_pairs_dict, pairs_count"
   ]
  },
  {
   "cell_type": "code",
   "execution_count": 4,
   "id": "eb40ee0c",
   "metadata": {},
   "outputs": [],
   "source": [
    "reads_filename = 'ERR266411_1.for_asm.fastq'\n",
    "reads, _ = readFastq(reads_filename)\n",
    "read_pairs, pairs_number = overlap_all_pairs(reads, 30)"
   ]
  },
  {
   "cell_type": "code",
   "execution_count": 5,
   "id": "c37c6951",
   "metadata": {},
   "outputs": [
    {
     "name": "stdout",
     "output_type": "stream",
     "text": [
      "Number of pairs of reads overlap: 904746\n"
     ]
    }
   ],
   "source": [
    "# Q3\n",
    "print(\"Number of pairs of reads overlap:\", pairs_number)"
   ]
  },
  {
   "cell_type": "code",
   "execution_count": 9,
   "id": "486da473",
   "metadata": {},
   "outputs": [
    {
     "name": "stdout",
     "output_type": "stream",
     "text": [
      "Number of reads having a suffix involved in an overlap: 7161\n"
     ]
    }
   ],
   "source": [
    "read_pairs_keys = []\n",
    "for key, value in read_pairs:\n",
    "    read_pairs_keys.append(key)\n",
    "    \n",
    "# Q4\n",
    "print(\"Number of reads having a suffix involved in an overlap:\", len(set(read_pairs_keys)))\n",
    "#coverting to set in order to exclude repeated read_pairs"
   ]
  }
 ],
 "metadata": {
  "kernelspec": {
   "display_name": "Python 3 (ipykernel)",
   "language": "python",
   "name": "python3"
  },
  "language_info": {
   "codemirror_mode": {
    "name": "ipython",
    "version": 3
   },
   "file_extension": ".py",
   "mimetype": "text/x-python",
   "name": "python",
   "nbconvert_exporter": "python",
   "pygments_lexer": "ipython3",
   "version": "3.9.12"
  }
 },
 "nbformat": 4,
 "nbformat_minor": 5
}
