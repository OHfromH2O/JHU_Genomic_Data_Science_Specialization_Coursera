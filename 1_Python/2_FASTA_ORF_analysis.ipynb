{
 "cells": [
  {
   "cell_type": "markdown",
   "id": "f900c9fc",
   "metadata": {},
   "source": [
    "#Python for Genomic Data Science final project\n",
    "JeongHo Choi, 15th June 2022 (updated)\n",
    "\n",
    "-Write a Python program that takes as input a file containing DNA sequences in multi-FASTA format, and computes the answers to the following questions:\n",
    "\n",
    "(3) Given an input reading frame on the forward strand (1, 2, or 3), your program should be able to identify all ORFs present in each sequence of the FASTA file.\n",
    "-what is the length of the longest ORF in the file? \n",
    "-What is the identifier of the sequence containing the longest ORF? \n",
    "-For a given sequence identifier, what is the longest ORF contained in the sequence represented by that identifier? \n",
    "-What is the starting position of the longest ORF in the sequence that contains it? "
   ]
  },
  {
   "cell_type": "code",
   "execution_count": 1,
   "id": "172c2a72",
   "metadata": {},
   "outputs": [],
   "source": [
    "from Bio import SeqIO"
   ]
  },
  {
   "cell_type": "code",
   "execution_count": 2,
   "id": "622857ea",
   "metadata": {},
   "outputs": [],
   "source": [
    "#calculate the start position and the length of longest ORF in sequence of FASTA file\n",
    "def ORF(sequence, reading_frame):\n",
    "    seq = sequence[reading_frame-1:] #for the three possible reading frames (1, 2, 3) in the forward direction (e.g. 0:3, 1:4, 2:5)\n",
    "    max_len_ORF = 0 #for finding out maxium length of ORF\n",
    "    max_len_start = 0 #for figuring out the start position of longest ORF\n",
    "    \n",
    "    for i in range(0, len(seq)-6, 3): #minimum length to be at least 6 as we take into account for start(3) and stop(3) codon\n",
    "        if seq[i:i+3] == 'ATG':\n",
    "            for j in range(i+3, len(seq)-3, 3):\n",
    "                if seq[j:j+3] in ['TAA', 'TAG', 'TGA']:\n",
    "                    len_ORF = j+3-i\n",
    "                    if len_ORF > max_len_ORF:\n",
    "                        max_len_ORF = len_ORF\n",
    "                        max_len_start = i\n",
    "                    break\n",
    "    \n",
    "    return max_len_start, max_len_ORF"
   ]
  },
  {
   "cell_type": "code",
   "execution_count": 3,
   "id": "d649fdeb",
   "metadata": {},
   "outputs": [],
   "source": [
    "def fasta_ORF_analysis(input_file, reading_frame):\n",
    "    multi_fasta = SeqIO.parse(open(input_file), 'fasta')\n",
    "    \n",
    "    ORF_record = {} #dictionary for recording maximum length of sequences in FASTA; IDs as key, [start position:maximum length] as value\n",
    "    \n",
    "    for fasta in multi_fasta:\n",
    "        name, description, sequence = fasta.id, str(fasta.description).split(), str(fasta.seq)\n",
    "        \n",
    "        #calculate the start position and the length of longest Open Reading Frame, with recalling ORF function\n",
    "        orf_start, orf_len = ORF(sequence, reading_frame)\n",
    "        ORF_record[description[0]] = [orf_start, orf_len]\n",
    "    \n",
    "    #sorting by length in descending order \n",
    "    ORF_record_sorted = sorted(ORF_record.items(), key=lambda x: x[1][1], reverse=True)\n",
    "    \n",
    "    print(\"ORF%d, sorted by length: \" % reading_frame, ORF_record_sorted)"
   ]
  },
  {
   "cell_type": "code",
   "execution_count": 4,
   "id": "5b585423",
   "metadata": {},
   "outputs": [],
   "source": [
    "input_file = 'dna2.fasta'"
   ]
  },
  {
   "cell_type": "code",
   "execution_count": 5,
   "id": "606f177a",
   "metadata": {},
   "outputs": [
    {
     "name": "stdout",
     "output_type": "stream",
     "text": [
      "ORF1, sorted by length:  [('gi|142022655|gb|EQ086233.1|45', [384, 2394]), ('gi|142022655|gb|EQ086233.1|250', [561, 1560]), ('gi|142022655|gb|EQ086233.1|16', [1527, 1509]), ('gi|142022655|gb|EQ086233.1|255', [291, 1443]), ('gi|142022655|gb|EQ086233.1|91', [978, 1296]), ('gi|142022655|gb|EQ086233.1|396', [528, 1059]), ('gi|142022655|gb|EQ086233.1|454', [2337, 1044]), ('gi|142022655|gb|EQ086233.1|293', [1389, 312]), ('gi|142022655|gb|EQ086233.1|4', [444, 249]), ('gi|142022655|gb|EQ086233.1|277', [597, 204]), ('gi|142022655|gb|EQ086233.1|527', [1224, 195]), ('gi|142022655|gb|EQ086233.1|75', [819, 180]), ('gi|142022655|gb|EQ086233.1|88', [81, 120]), ('gi|142022655|gb|EQ086233.1|304', [858, 105]), ('gi|142022655|gb|EQ086233.1|584', [159, 90]), ('gi|142022655|gb|EQ086233.1|594', [27, 42]), ('gi|142022655|gb|EQ086233.1|322', [0, 0]), ('gi|142022655|gb|EQ086233.1|346', [0, 0])]\n"
     ]
    }
   ],
   "source": [
    "fasta_ORF_analysis(input_file, 1)"
   ]
  }
 ],
 "metadata": {
  "kernelspec": {
   "display_name": "Python 3 (ipykernel)",
   "language": "python",
   "name": "python3"
  },
  "language_info": {
   "codemirror_mode": {
    "name": "ipython",
    "version": 3
   },
   "file_extension": ".py",
   "mimetype": "text/x-python",
   "name": "python",
   "nbconvert_exporter": "python",
   "pygments_lexer": "ipython3",
   "version": "3.9.12"
  }
 },
 "nbformat": 4,
 "nbformat_minor": 5
}
