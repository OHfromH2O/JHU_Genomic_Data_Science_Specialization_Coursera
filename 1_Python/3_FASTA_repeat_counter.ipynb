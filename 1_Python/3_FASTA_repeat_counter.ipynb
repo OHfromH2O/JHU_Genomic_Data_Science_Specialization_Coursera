{
 "cells": [
  {
   "cell_type": "markdown",
   "id": "f4738f39",
   "metadata": {},
   "source": [
    "#Python for Genomic Data Science final project\n",
    "JeongHo Choi, 15th June 2022 (updated)\n",
    "\n",
    "-Write a Python program that takes as input a file containing DNA sequences in multi-FASTA format, and computes the answers to the following questions:\n",
    "\n",
    "(4) A repeat is a substring of a DNA sequence that occurs in multiple copies (more than one) somewhere in the sequence. Although repeats can occur on both the forward and reverse strands of the DNA sequence, we will only consider repeats on the forward strand here. Also we will allow repeats to overlap themselves. \n",
    "\n",
    "-Given a length n, your program should be able to identify all repeats of length n in all sequences in the FASTA file. -Your program should also determine how many times each repeat occurs in the file, and which is the most frequent repeat of a given length."
   ]
  },
  {
   "cell_type": "code",
   "execution_count": 1,
   "id": "bb5ea287",
   "metadata": {},
   "outputs": [],
   "source": [
    "from Bio import SeqIO\n",
    "\n",
    "from collections import Counter"
   ]
  },
  {
   "cell_type": "code",
   "execution_count": 2,
   "id": "13dcf4f9",
   "metadata": {},
   "outputs": [],
   "source": [
    "#list out all substrings of length n in the sequence\n",
    "def substrings(sequence, repeat_len):\n",
    "    substring_list = []\n",
    "    repeat_count = 0\n",
    "    \n",
    "    for i in range(len(sequence)-repeat_len):\n",
    "        substring_list.append(sequence[i:(i+repeat_len)])\n",
    "    return substring_list"
   ]
  },
  {
   "cell_type": "code",
   "execution_count": 3,
   "id": "b534c251",
   "metadata": {},
   "outputs": [],
   "source": [
    "#identify all repeats of length n\n",
    "def fasta_repeat(input_file, n):\n",
    "    multi_fasta = SeqIO.parse(open(input_file), 'fasta')\n",
    "    \n",
    "    sub_count = [] #for counting repeated substrings\n",
    "    \n",
    "    for fasta in multi_fasta:\n",
    "        name, description, sequence = fasta.id, str(fasta.description).split(), str(fasta.seq)\n",
    "        \n",
    "        sub_list = substrings(sequence, n)\n",
    "        for i in range(len(sub_list)):\n",
    "            sub_count.append(sub_list[i])\n",
    "\n",
    "    sub_count = Counter(sub_count).most_common(3)\n",
    "    \n",
    "    print(\"Top 3 repeats in length %d are: \" % n, sub_count)"
   ]
  },
  {
   "cell_type": "code",
   "execution_count": 4,
   "id": "94fa27aa",
   "metadata": {},
   "outputs": [],
   "source": [
    "input_file = 'dna2.fasta'"
   ]
  },
  {
   "cell_type": "code",
   "execution_count": 5,
   "id": "82ca61e8",
   "metadata": {},
   "outputs": [
    {
     "name": "stdout",
     "output_type": "stream",
     "text": [
      "Top 3 repeats in length 5 are:  [('CGCGC', 418), ('GCGCG', 414), ('CGCCG', 365)]\n"
     ]
    }
   ],
   "source": [
    "fasta_repeat(input_file, 5)"
   ]
  }
 ],
 "metadata": {
  "kernelspec": {
   "display_name": "Python 3 (ipykernel)",
   "language": "python",
   "name": "python3"
  },
  "language_info": {
   "codemirror_mode": {
    "name": "ipython",
    "version": 3
   },
   "file_extension": ".py",
   "mimetype": "text/x-python",
   "name": "python",
   "nbconvert_exporter": "python",
   "pygments_lexer": "ipython3",
   "version": "3.9.12"
  }
 },
 "nbformat": 4,
 "nbformat_minor": 5
}
