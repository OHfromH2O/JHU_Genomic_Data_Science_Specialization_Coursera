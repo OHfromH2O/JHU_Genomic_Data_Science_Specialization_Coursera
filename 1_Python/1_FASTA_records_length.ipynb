{
 "cells": [
  {
   "cell_type": "markdown",
   "id": "ebe8f2b9",
   "metadata": {},
   "source": [
    "#Python for Genomic Data Science final project\n",
    "JeongHo Choi, 15th June 2022 (updated)\n",
    "\n",
    "-Write a Python program that takes as input a file containing DNA sequences in multi-FASTA format, and computes the answers to the following questions:\n",
    "\n",
    "(1) How many records are in the file? \n",
    "(2) What are the lengths of the sequences in the file? What is the longest sequence and what is the shortest sequence? \n",
    "Is there more than one longest or shortest sequence? What are their identifiers? "
   ]
  },
  {
   "cell_type": "code",
   "execution_count": 1,
   "id": "25540440",
   "metadata": {},
   "outputs": [],
   "source": [
    "from Bio import SeqIO"
   ]
  },
  {
   "cell_type": "code",
   "execution_count": 2,
   "id": "0d229465",
   "metadata": {},
   "outputs": [],
   "source": [
    "def fasta_records(input_file):\n",
    "    multi_fasta = SeqIO.parse(open(input_file), 'fasta')\n",
    "    \n",
    "    record_num = 0\n",
    "    record_len = {} #dictionary for sequence length; FASTA ID as key, sequence length as value\n",
    "    \n",
    "    for fasta in multi_fasta:\n",
    "        name, description, sequence = fasta.id, str(fasta.description).split(), str(fasta.seq)\n",
    "        record_num += 1\n",
    "        seq_len = len(sequence)\n",
    "        record_len[description[0]] = seq_len\n",
    "    \n",
    "    record_len_sorted = sorted(record_len.items(), key=lambda item: item[1], reverse=True)\n",
    "    #sorted in descending order\n",
    "    \n",
    "    print(\"Number of records\", record_num, '\\n')\n",
    "    print(\"Sorted records length\", record_len_sorted, '\\n')"
   ]
  },
  {
   "cell_type": "code",
   "execution_count": 3,
   "id": "44db2851",
   "metadata": {},
   "outputs": [],
   "source": [
    "input_file = 'dna2.fasta'"
   ]
  },
  {
   "cell_type": "code",
   "execution_count": 4,
   "id": "ae93fd60",
   "metadata": {},
   "outputs": [
    {
     "name": "stdout",
     "output_type": "stream",
     "text": [
      "Number of records 18 \n",
      "\n",
      "Sorted records length [('gi|142022655|gb|EQ086233.1|255', 4894), ('gi|142022655|gb|EQ086233.1|16', 4804), ('gi|142022655|gb|EQ086233.1|91', 4635), ('gi|142022655|gb|EQ086233.1|454', 4564), ('gi|142022655|gb|EQ086233.1|293', 4338), ('gi|142022655|gb|EQ086233.1|396', 4076), ('gi|142022655|gb|EQ086233.1|45', 3511), ('gi|142022655|gb|EQ086233.1|250', 2867), ('gi|142022655|gb|EQ086233.1|527', 2646), ('gi|142022655|gb|EQ086233.1|4', 2095), ('gi|142022655|gb|EQ086233.1|277', 1432), ('gi|142022655|gb|EQ086233.1|75', 1352), ('gi|142022655|gb|EQ086233.1|304', 1151), ('gi|142022655|gb|EQ086233.1|594', 967), ('gi|142022655|gb|EQ086233.1|584', 964), ('gi|142022655|gb|EQ086233.1|88', 890), ('gi|142022655|gb|EQ086233.1|322', 442), ('gi|142022655|gb|EQ086233.1|346', 115)] \n",
      "\n"
     ]
    }
   ],
   "source": [
    "fasta_records(input_file)"
   ]
  }
 ],
 "metadata": {
  "kernelspec": {
   "display_name": "Python 3 (ipykernel)",
   "language": "python",
   "name": "python3"
  },
  "language_info": {
   "codemirror_mode": {
    "name": "ipython",
    "version": 3
   },
   "file_extension": ".py",
   "mimetype": "text/x-python",
   "name": "python",
   "nbconvert_exporter": "python",
   "pygments_lexer": "ipython3",
   "version": "3.9.12"
  }
 },
 "nbformat": 4,
 "nbformat_minor": 5
}
